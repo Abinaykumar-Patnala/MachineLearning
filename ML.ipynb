{
  "nbformat": 4,
  "nbformat_minor": 0,
  "metadata": {
    "colab": {
      "provenance": [],
      "authorship_tag": "ABX9TyM5amW6WFkESwOSBt59lSEf",
      "include_colab_link": true
    },
    "kernelspec": {
      "name": "python3",
      "display_name": "Python 3"
    },
    "language_info": {
      "name": "python"
    }
  },
  "cells": [
    {
      "cell_type": "markdown",
      "metadata": {
        "id": "view-in-github",
        "colab_type": "text"
      },
      "source": [
        "<a href=\"https://colab.research.google.com/github/Abinaykumar-Patnala/MachineLearning/blob/main/ML.ipynb\" target=\"_parent\"><img src=\"https://colab.research.google.com/assets/colab-badge.svg\" alt=\"Open In Colab\"/></a>"
      ]
    },
    {
      "cell_type": "code",
      "execution_count": null,
      "metadata": {
        "colab": {
          "base_uri": "https://localhost:8080/"
        },
        "id": "oU1pZU9OpAFr",
        "outputId": "c1da87df-35d4-4988-ef79-15cdb2ce96a0"
      },
      "outputs": [
        {
          "output_type": "stream",
          "name": "stdout",
          "text": [
            "Requirement already satisfied: pandas in /usr/local/lib/python3.11/dist-packages (2.2.2)\n",
            "Requirement already satisfied: numpy>=1.23.2 in /usr/local/lib/python3.11/dist-packages (from pandas) (2.0.2)\n",
            "Requirement already satisfied: python-dateutil>=2.8.2 in /usr/local/lib/python3.11/dist-packages (from pandas) (2.9.0.post0)\n",
            "Requirement already satisfied: pytz>=2020.1 in /usr/local/lib/python3.11/dist-packages (from pandas) (2025.2)\n",
            "Requirement already satisfied: tzdata>=2022.7 in /usr/local/lib/python3.11/dist-packages (from pandas) (2025.2)\n",
            "Requirement already satisfied: six>=1.5 in /usr/local/lib/python3.11/dist-packages (from python-dateutil>=2.8.2->pandas) (1.17.0)\n"
          ]
        }
      ],
      "source": [
        "pip install pandas"
      ]
    },
    {
      "cell_type": "code",
      "source": [
        "import numpy as np\n",
        "n = np.arange(10)\n",
        "print(n)"
      ],
      "metadata": {
        "colab": {
          "base_uri": "https://localhost:8080/"
        },
        "id": "K90LxFC81jQ4",
        "outputId": "8b6d71ab-84f0-4cd4-90fd-55c7048b0260"
      },
      "execution_count": null,
      "outputs": [
        {
          "output_type": "stream",
          "name": "stdout",
          "text": [
            "[0 1 2 3 4 5 6 7 8 9]\n"
          ]
        }
      ]
    },
    {
      "cell_type": "code",
      "source": [
        "N=n.reshape(2,5)\n",
        "print(N)"
      ],
      "metadata": {
        "colab": {
          "base_uri": "https://localhost:8080/"
        },
        "id": "zqR3eFzL2l-J",
        "outputId": "28576954-1153-427b-f10f-90ef4d0288fe"
      },
      "execution_count": null,
      "outputs": [
        {
          "output_type": "stream",
          "name": "stdout",
          "text": [
            "[[0 1 2 3 4]\n",
            " [5 6 7 8 9]]\n"
          ]
        }
      ]
    },
    {
      "cell_type": "code",
      "source": [
        "M=n.reshape(5,2)\n",
        "print(M)"
      ],
      "metadata": {
        "colab": {
          "base_uri": "https://localhost:8080/"
        },
        "id": "p4B2yBHc3XwB",
        "outputId": "c800aa9b-c898-4951-edb4-9ebcb118f2a1"
      },
      "execution_count": null,
      "outputs": [
        {
          "output_type": "stream",
          "name": "stdout",
          "text": [
            "[[0 1]\n",
            " [2 3]\n",
            " [4 5]\n",
            " [6 7]\n",
            " [8 9]]\n"
          ]
        }
      ]
    },
    {
      "cell_type": "code",
      "source": [
        "print(np.dot(M,N))"
      ],
      "metadata": {
        "colab": {
          "base_uri": "https://localhost:8080/"
        },
        "id": "3AANkWJx3A6v",
        "outputId": "744edfce-5ae8-4b15-e0bf-c2bac8401103"
      },
      "execution_count": null,
      "outputs": [
        {
          "output_type": "stream",
          "name": "stdout",
          "text": [
            "[[  5   6   7   8   9]\n",
            " [ 15  20  25  30  35]\n",
            " [ 25  34  43  52  61]\n",
            " [ 35  48  61  74  87]\n",
            " [ 45  62  79  96 113]]\n"
          ]
        }
      ]
    },
    {
      "cell_type": "code",
      "source": [
        "n2=n[n%2!=0]\n",
        "print(n2)"
      ],
      "metadata": {
        "colab": {
          "base_uri": "https://localhost:8080/"
        },
        "id": "x832eRP53bv_",
        "outputId": "1232ace8-c5e7-429e-87e5-c540077ccdf3"
      },
      "execution_count": null,
      "outputs": [
        {
          "output_type": "stream",
          "name": "stdout",
          "text": [
            "[1 3 5 7 9]\n"
          ]
        }
      ]
    },
    {
      "cell_type": "code",
      "source": [
        "m=[n>2]\n",
        "print(m)"
      ],
      "metadata": {
        "colab": {
          "base_uri": "https://localhost:8080/"
        },
        "id": "KAsM1Nhe32S_",
        "outputId": "a217a8ad-61f8-4006-cf92-429d8903c7dc"
      },
      "execution_count": null,
      "outputs": [
        {
          "output_type": "stream",
          "name": "stdout",
          "text": [
            "[array([False, False, False,  True,  True,  True,  True,  True,  True,\n",
            "        True])]\n"
          ]
        }
      ]
    },
    {
      "cell_type": "code",
      "source": [
        "n3=np.arange(20)\n",
        "n3[n3%2!=0]=15\n",
        "print(n3)"
      ],
      "metadata": {
        "colab": {
          "base_uri": "https://localhost:8080/"
        },
        "id": "EvUXNEbB4DPv",
        "outputId": "2cde5257-c17a-44ca-b944-0276b8470f55"
      },
      "execution_count": null,
      "outputs": [
        {
          "output_type": "stream",
          "name": "stdout",
          "text": [
            "[ 0 15  2 15  4 15  6 15  8 15 10 15 12 15 14 15 16 15 18 15]\n"
          ]
        }
      ]
    },
    {
      "cell_type": "code",
      "source": [
        "P=np.array([25,14,12,28,3])\n",
        "P[P%2==0]*=-1\n",
        "print(P)"
      ],
      "metadata": {
        "colab": {
          "base_uri": "https://localhost:8080/"
        },
        "id": "YhSSleCR6dan",
        "outputId": "9f4e4149-4e24-48b0-9bb4-286816c35c31"
      },
      "execution_count": null,
      "outputs": [
        {
          "output_type": "stream",
          "name": "stdout",
          "text": [
            "[ 25 -14 -12 -28   3]\n"
          ]
        }
      ]
    },
    {
      "cell_type": "code",
      "source": [
        "#\n",
        "from google.colab import files\n",
        "uploaded = files.upload()\n",
        "import pandas as pd\n",
        "import pandas as pd\n",
        "data = pd.read_csv('/content/favorite_music_dataset.csv')\n",
        "print(data.head())\n"
      ],
      "metadata": {
        "id": "whAfDD2j8ZYg"
      },
      "execution_count": null,
      "outputs": []
    },
    {
      "cell_type": "code",
      "source": [
        "from sklearn import datasets\n",
        "from sklearn.model_selection import train_test_split\n",
        "from sklearn.ensemble import RandomForestClassifier\n",
        "from sklearn.metrics import accuracy_score\n",
        "# Load dataset\n",
        "iris = datasets.load_iris()\n",
        "X = iris.data\n",
        "y = iris.target\n",
        "# Split dataset into training and testing sets\n",
        "X_train, X_test, y_train, y_test = train_test_split(X, y, test_size=0.3, random_state=42)\n",
        "# Create and train the model\n",
        "clf = RandomForestClassifier(n_estimators=100)\n",
        "clf.fit(X_train, y_train)\n",
        "# Make predictions\n",
        "y_pred = clf.predict(X_test)\n",
        "# Evaluate the model\n",
        "accuracy = accuracy_score(y_test, y_pred)\n",
        "print(f\"Accuracy: {accuracy:.2f}\")"
      ],
      "metadata": {
        "colab": {
          "base_uri": "https://localhost:8080/"
        },
        "id": "cM7ZNoy56WGL",
        "outputId": "694ab618-3feb-46d9-8463-37f6d3b15598"
      },
      "execution_count": null,
      "outputs": [
        {
          "output_type": "stream",
          "name": "stdout",
          "text": [
            "Accuracy: 1.00\n"
          ]
        }
      ]
    },
    {
      "cell_type": "markdown",
      "source": [
        "01-08-2025"
      ],
      "metadata": {
        "id": "2xwKaWL91JGh"
      }
    },
    {
      "cell_type": "code",
      "source": [
        "#constant features\n",
        "import pandas as pd\n",
        "import numpy as np\n",
        "from sklearn.model_selection import train_test_split\n",
        "from sklearn.feature_selection import VarianceThreshold\n",
        "df=pd.read_csv('/content/airlines_flights_data.csv')\n",
        "df.shape\n",
        "df['new_column']=0\n",
        "# [col for col in df.columns if df[col].isnull().sum() > 0]\n",
        "# x_train, x_test, y_train, y_test = train_test_split(\n",
        "#     df.drop(labels=['days_left'], axis=1),\n",
        "#     df['days_left'],\n",
        "#     test_size=0.3,\n",
        "#     random_state=0\n",
        "# )\n",
        "# Select only numeric columns from x_train\n",
        "x_train_numeric = df.select_dtypes(include=[np.number]).columns\n",
        "\n",
        "# Find constant features\n",
        "constant_features = [feature for feature in x_train_numeric if df[feature].std() == 0]\n",
        "print(\"Number of constant features:\", len(constant_features))\n",
        "print(\"Constant features:\", constant_features)\n",
        "df.drop(labels=constant_features,axis=1,inplace=True)\n",
        "print(df.head())"
      ],
      "metadata": {
        "id": "qSYo2Jv0yXqp",
        "colab": {
          "base_uri": "https://localhost:8080/"
        },
        "outputId": "451ad734-c428-4d6d-99dc-b1ccf92396c0"
      },
      "execution_count": 50,
      "outputs": [
        {
          "output_type": "stream",
          "name": "stdout",
          "text": [
            "Number of constant features: 1\n",
            "Constant features: ['new_column']\n",
            "   index   airline   flight source_city departure_time stops   arrival_time  \\\n",
            "0      0  SpiceJet  SG-8709       Delhi        Evening  zero          Night   \n",
            "1      1  SpiceJet  SG-8157       Delhi  Early_Morning  zero        Morning   \n",
            "2      2   AirAsia   I5-764       Delhi  Early_Morning  zero  Early_Morning   \n",
            "3      3   Vistara   UK-995       Delhi        Morning  zero      Afternoon   \n",
            "4      4   Vistara   UK-963       Delhi        Morning  zero        Morning   \n",
            "\n",
            "  destination_city    class  duration  days_left  price  \n",
            "0           Mumbai  Economy      2.17          1   5953  \n",
            "1           Mumbai  Economy      2.33          1   5953  \n",
            "2           Mumbai  Economy      2.17          1   5956  \n",
            "3           Mumbai  Economy      2.25          1   5955  \n",
            "4           Mumbai  Economy      2.33          1   5955  \n"
          ]
        }
      ]
    },
    {
      "cell_type": "code",
      "source": [
        "import pandas as pd\n",
        "import numpy as np\n",
        "from sklearn.model_selection import train_test_split\n",
        "\n",
        "# Load dataset\n",
        "df = pd.read_csv('/content/airlines_flights_data.csv')\n",
        "\n",
        "# Check shape\n",
        "print(\"Shape:\", df.shape)\n",
        "\n",
        "# Check for null columns\n",
        "null_columns = [col for col in df.columns if df[col].isnull().sum() > 0]\n",
        "print(\"Columns with nulls:\", null_columns)\n",
        "\n",
        "# Train-test split\n",
        "# Step 1: Select only numeric columns from x_train\n",
        "x_train_numeric = x_train.select_dtypes(include=[np.number])\n",
        "\n",
        "# Step 2: Find constant features (std = 0)\n",
        "constant_features = [feature for feature in x_train_numeric.columns if x_train_numeric[feature].std() == 0]\n",
        "\n",
        "# Step 3: Print results\n",
        "print(\"Number of constant features:\", len(constant_features))\n",
        "print(\"Constant features:\", constant_features)\n"
      ],
      "metadata": {
        "colab": {
          "base_uri": "https://localhost:8080/"
        },
        "id": "EBxQ_7cSCDim",
        "outputId": "55c7e6cc-6097-49aa-b9e5-7259e313d189"
      },
      "execution_count": 32,
      "outputs": [
        {
          "output_type": "stream",
          "name": "stdout",
          "text": [
            "Shape: (300153, 12)\n",
            "Columns with nulls: []\n",
            "Number of constant features: 0\n",
            "Constant features: []\n"
          ]
        }
      ]
    },
    {
      "cell_type": "code",
      "source": [
        "#Quasi Constant\n"
      ],
      "metadata": {
        "id": "BiG41dILHsji"
      },
      "execution_count": null,
      "outputs": []
    }
  ]
}